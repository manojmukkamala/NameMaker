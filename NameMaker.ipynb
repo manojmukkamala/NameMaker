{
  "nbformat": 4,
  "nbformat_minor": 0,
  "metadata": {
    "colab": {
      "name": "NameMaker.ipynb",
      "provenance": [],
      "collapsed_sections": []
    },
    "kernelspec": {
      "name": "python3",
      "display_name": "Python 3"
    },
    "accelerator": "GPU"
  },
  "cells": [
    {
      "cell_type": "code",
      "metadata": {
        "id": "YEj835XWPkhx",
        "colab_type": "code",
        "colab": {}
      },
      "source": [
        "import numpy as np\n",
        "import pandas as pd\n",
        "import string\n",
        "import nltk\n",
        "\n",
        "import warnings\n",
        "warnings.filterwarnings('ignore')"
      ],
      "execution_count": 0,
      "outputs": []
    },
    {
      "cell_type": "markdown",
      "metadata": {
        "id": "Qj2jNLCMwEKQ",
        "colab_type": "text"
      },
      "source": [
        "## Data Preparation"
      ]
    },
    {
      "cell_type": "code",
      "metadata": {
        "id": "9hI82KQSupxa",
        "colab_type": "code",
        "colab": {}
      },
      "source": [
        "chr_to_idx = {j:i for i,j in enumerate(string.ascii_lowercase)}\n",
        "idx_to_chr = {i:j for i,j in enumerate(string.ascii_lowercase)}\n",
        "\n",
        "chr_to_idx['\\n'] = 26\n",
        "idx_to_chr[26] = '\\n'\n",
        "\n",
        "vocab_size = len(chr_to_idx)"
      ],
      "execution_count": 0,
      "outputs": []
    },
    {
      "cell_type": "markdown",
      "metadata": {
        "id": "OvwhL2dav2rk",
        "colab_type": "text"
      },
      "source": [
        "### String Functions"
      ]
    },
    {
      "cell_type": "code",
      "metadata": {
        "id": "mXAvsW5ztGIt",
        "colab_type": "code",
        "colab": {}
      },
      "source": [
        "def split_word(word): \n",
        "  return [i for i in word]\n",
        "  \n",
        "def punc_check(x):\n",
        "  return True not in ([i in [i for i in string.punctuation] for i in x])\n",
        "  \n",
        "def letter_check(x):\n",
        "  return False in ([i not in [i for i in string.ascii_lowercase] for i in x])\n",
        "  \n",
        "def number_check(x):\n",
        "  return False not in ([i not in [str(i) for i in [*range(0, 9)]] for i in x])\n",
        "  \n",
        "def token_idx(tokens):\n",
        "  return [chr_to_idx[i] for i in tokens]\n",
        "  \n",
        "def end_pad(token, max_length):\n",
        "  return token + [chr_to_idx['\\n']] * (max_length - len(token))  "
      ],
      "execution_count": 0,
      "outputs": []
    },
    {
      "cell_type": "code",
      "metadata": {
        "id": "S1pAZUKxeQAf",
        "colab_type": "code",
        "colab": {}
      },
      "source": [
        "# def one_hot(A, classes):\n",
        "\n",
        "#   _, m, T = A.shape\n",
        "#   n_C = classes\n",
        "\n",
        "#   A_one_hot = np.zeros((n_C, m, T))\n",
        "\n",
        "#   for t in range(T):\n",
        "#     for i, j in enumerate(np.squeeze(A[:, :, t])):\n",
        "#       A_one_hot[j, i, t] = 1\n",
        "\n",
        "#   return A_one_hot"
      ],
      "execution_count": 0,
      "outputs": []
    },
    {
      "cell_type": "code",
      "metadata": {
        "id": "SWHXbKTL73x2",
        "colab_type": "code",
        "colab": {}
      },
      "source": [
        "def one_hot(A, classes, num_examples):\n",
        "    return np.eye(classes)[np.array(A).reshape(-1)].reshape(num_examples, -1, classes)"
      ],
      "execution_count": 0,
      "outputs": []
    },
    {
      "cell_type": "markdown",
      "metadata": {
        "id": "vgUP_8D6JJu1",
        "colab_type": "text"
      },
      "source": [
        "### Data Cleansing"
      ]
    },
    {
      "cell_type": "code",
      "metadata": {
        "id": "GxyGebKjm17N",
        "colab_type": "code",
        "colab": {}
      },
      "source": [
        "us_name = pd.read_csv('/content/drive/My Drive/Colab Notebooks/names_us.csv')\n",
        "us_names = us_name.copy()"
      ],
      "execution_count": 0,
      "outputs": []
    },
    {
      "cell_type": "code",
      "metadata": {
        "id": "-rzkOGdpnPiH",
        "colab_type": "code",
        "colab": {}
      },
      "source": [
        "us_names.drop(columns = ['year', 'percent', 'sex'], inplace = True)"
      ],
      "execution_count": 0,
      "outputs": []
    },
    {
      "cell_type": "code",
      "metadata": {
        "id": "qcxWkPKjn5cs",
        "colab_type": "code",
        "colab": {}
      },
      "source": [
        "us_names.dropna(inplace = True)"
      ],
      "execution_count": 0,
      "outputs": []
    },
    {
      "cell_type": "code",
      "metadata": {
        "id": "cTX7eittRouC",
        "colab_type": "code",
        "colab": {}
      },
      "source": [
        "ind_name = pd.read_csv('/content/drive/My Drive/Colab Notebooks/names.csv', header = None)\n",
        "ind_names = ind_name.copy()"
      ],
      "execution_count": 0,
      "outputs": []
    },
    {
      "cell_type": "code",
      "metadata": {
        "id": "pf_dFKefwulX",
        "colab_type": "code",
        "colab": {}
      },
      "source": [
        "ind_names.drop(columns=1, inplace = True)\n",
        "ind_names.columns = ['name']"
      ],
      "execution_count": 0,
      "outputs": []
    },
    {
      "cell_type": "code",
      "metadata": {
        "id": "uQklPDcJw80V",
        "colab_type": "code",
        "colab": {}
      },
      "source": [
        "ind_names.dropna(inplace = True)"
      ],
      "execution_count": 0,
      "outputs": []
    },
    {
      "cell_type": "code",
      "metadata": {
        "id": "dtp57U5foEC8",
        "colab_type": "code",
        "colab": {}
      },
      "source": [
        "data = pd.concat([us_names, ind_names]).reset_index().drop('index', axis = 1)"
      ],
      "execution_count": 0,
      "outputs": []
    },
    {
      "cell_type": "code",
      "metadata": {
        "id": "8afwu1dE7KUg",
        "colab_type": "code",
        "colab": {
          "base_uri": "https://localhost:8080/",
          "height": 204
        },
        "outputId": "c1bc38a0-a5b5-411a-e97a-d2b3072170b5"
      },
      "source": [
        "data.head()"
      ],
      "execution_count": 51,
      "outputs": [
        {
          "output_type": "execute_result",
          "data": {
            "text/html": [
              "<div>\n",
              "<style scoped>\n",
              "    .dataframe tbody tr th:only-of-type {\n",
              "        vertical-align: middle;\n",
              "    }\n",
              "\n",
              "    .dataframe tbody tr th {\n",
              "        vertical-align: top;\n",
              "    }\n",
              "\n",
              "    .dataframe thead th {\n",
              "        text-align: right;\n",
              "    }\n",
              "</style>\n",
              "<table border=\"1\" class=\"dataframe\">\n",
              "  <thead>\n",
              "    <tr style=\"text-align: right;\">\n",
              "      <th></th>\n",
              "      <th>name</th>\n",
              "    </tr>\n",
              "  </thead>\n",
              "  <tbody>\n",
              "    <tr>\n",
              "      <th>0</th>\n",
              "      <td>John</td>\n",
              "    </tr>\n",
              "    <tr>\n",
              "      <th>1</th>\n",
              "      <td>William</td>\n",
              "    </tr>\n",
              "    <tr>\n",
              "      <th>2</th>\n",
              "      <td>James</td>\n",
              "    </tr>\n",
              "    <tr>\n",
              "      <th>3</th>\n",
              "      <td>Charles</td>\n",
              "    </tr>\n",
              "    <tr>\n",
              "      <th>4</th>\n",
              "      <td>George</td>\n",
              "    </tr>\n",
              "  </tbody>\n",
              "</table>\n",
              "</div>"
            ],
            "text/plain": [
              "      name\n",
              "0     John\n",
              "1  William\n",
              "2    James\n",
              "3  Charles\n",
              "4   George"
            ]
          },
          "metadata": {
            "tags": []
          },
          "execution_count": 51
        }
      ]
    },
    {
      "cell_type": "code",
      "metadata": {
        "id": "J8mib7fgxzg1",
        "colab_type": "code",
        "colab": {}
      },
      "source": [
        "data['name'] = data['name'].apply(lambda x: x.split(' ')[0].strip())"
      ],
      "execution_count": 0,
      "outputs": []
    },
    {
      "cell_type": "code",
      "metadata": {
        "id": "NQX5VRKb7kdK",
        "colab_type": "code",
        "colab": {}
      },
      "source": [
        "data['name'] = data['name'].apply(lambda x: x.lower())"
      ],
      "execution_count": 0,
      "outputs": []
    },
    {
      "cell_type": "code",
      "metadata": {
        "id": "5JcaM-aE26Ym",
        "colab_type": "code",
        "colab": {}
      },
      "source": [
        "data = pd.Series(data['name'].unique())"
      ],
      "execution_count": 0,
      "outputs": []
    },
    {
      "cell_type": "code",
      "metadata": {
        "id": "9kuHesw9jrNU",
        "colab_type": "code",
        "outputId": "03f92915-fe0f-443c-e2fa-757abe3e23d4",
        "colab": {
          "base_uri": "https://localhost:8080/",
          "height": 119
        }
      },
      "source": [
        "data.head()"
      ],
      "execution_count": 55,
      "outputs": [
        {
          "output_type": "execute_result",
          "data": {
            "text/plain": [
              "0       john\n",
              "1    william\n",
              "2      james\n",
              "3    charles\n",
              "4     george\n",
              "dtype: object"
            ]
          },
          "metadata": {
            "tags": []
          },
          "execution_count": 55
        }
      ]
    },
    {
      "cell_type": "code",
      "metadata": {
        "id": "vVwP_knnj3CP",
        "colab_type": "code",
        "outputId": "1658ae2f-e72c-4dea-a363-68f48d5597dd",
        "colab": {
          "base_uri": "https://localhost:8080/",
          "height": 255
        }
      },
      "source": [
        "print(data[-100:].values)"
      ],
      "execution_count": 56,
      "outputs": [
        {
          "output_type": "stream",
          "text": [
            "['kushmi' 'sanjogta' 'geetika' 'sahnara' 'prasanta' 'ajmit' 'nazima'\n",
            " 'mankuri' 'rennu' 'samiya' 'soba' 'लाली' 'savreen' 'areen' 'hemlat'\n",
            " 'sunhara' 'neeta@narayani' 'सुगना' 'pholwati' 'rekhwan' 'maigo' 'satvida'\n",
            " 'nachita' 'umme' 'nathiya' 'awshin' 'channu' 'नैना' 'sushri' 'mema'\n",
            " 'sahgufta' 'fahira' 'rubbina' 'farmeena' 'dur' 'raju,' 'tabbusum' 'maaya'\n",
            " 'tinvkal' 'taki' 'bhawar' 'sosari' 'pataso' 'ekata' 'hajari' 'susmita'\n",
            " 'santra' 'smh.sugana' 'farana' 'joyate' 'lashma' 'marjana' 'shymo'\n",
            " 'maadhuri' 'sukmani' 'fulo' 'smt.lokesh' 'pawni' 'munnia' 'lta' 'najara'\n",
            " 'dilish' 'kesavi' 'ashmin' 'sipra' 'alis' 'shilap' 'smt.nisha' 'husiya'\n",
            " 'शाहीन' 'nafeesa' 'sibanaz' 'monam' 'meela' 'premwati@radha' 'hongsi'\n",
            " 'khush' 'bali' 'roopali' 'revakshi' 'nikhad' 'sahima' 'minaxni'\n",
            " 'foolwati' 'alhamdi' 'sagiran' 'gajla' 'shvani' 'rubiya' 'lavali' 'jugan'\n",
            " 'subhagi' 'munia' 'vidyawati' 'abhaki' 'injum' 'kaarti' 'vaijanti'\n",
            " 'narayani' 'nayna']\n"
          ],
          "name": "stdout"
        }
      ]
    },
    {
      "cell_type": "code",
      "metadata": {
        "id": "Iha2aZCHCf_V",
        "colab_type": "code",
        "colab": {}
      },
      "source": [
        "data = data[data.apply(lambda x: letter_check(x))]"
      ],
      "execution_count": 0,
      "outputs": []
    },
    {
      "cell_type": "code",
      "metadata": {
        "id": "kgd6eZ0lzTBi",
        "colab_type": "code",
        "colab": {}
      },
      "source": [
        "data = data[data.apply(lambda x: punc_check(x))]"
      ],
      "execution_count": 0,
      "outputs": []
    },
    {
      "cell_type": "code",
      "metadata": {
        "id": "iA14CoEUxgqz",
        "colab_type": "code",
        "colab": {}
      },
      "source": [
        "data = data.apply(lambda x: split_word(x.lower()))"
      ],
      "execution_count": 0,
      "outputs": []
    },
    {
      "cell_type": "code",
      "metadata": {
        "id": "P8Yw9t9475zQ",
        "colab_type": "code",
        "colab": {
          "base_uri": "https://localhost:8080/",
          "height": 34
        },
        "outputId": "7a64ca91-ba3d-4b52-8b46-d9ad85085914"
      },
      "source": [
        "data.shape"
      ],
      "execution_count": 77,
      "outputs": [
        {
          "output_type": "execute_result",
          "data": {
            "text/plain": [
              "(13036,)"
            ]
          },
          "metadata": {
            "tags": []
          },
          "execution_count": 77
        }
      ]
    },
    {
      "cell_type": "code",
      "metadata": {
        "id": "f0RFd87PzfJ6",
        "colab_type": "code",
        "colab": {}
      },
      "source": [
        "data = data[data.apply(lambda x: letter_check(x))]"
      ],
      "execution_count": 0,
      "outputs": []
    },
    {
      "cell_type": "code",
      "metadata": {
        "id": "ckB_DevERtqW",
        "colab_type": "code",
        "colab": {}
      },
      "source": [
        "data = data[data.apply(lambda x: number_check(x))]"
      ],
      "execution_count": 0,
      "outputs": []
    },
    {
      "cell_type": "code",
      "metadata": {
        "id": "YMQG3Ewpouvg",
        "colab_type": "code",
        "outputId": "16e1cd80-6ab5-4559-b1b6-02655ec6eaa1",
        "colab": {
          "base_uri": "https://localhost:8080/",
          "height": 34
        }
      },
      "source": [
        "data.shape"
      ],
      "execution_count": 80,
      "outputs": [
        {
          "output_type": "execute_result",
          "data": {
            "text/plain": [
              "(13036,)"
            ]
          },
          "metadata": {
            "tags": []
          },
          "execution_count": 80
        }
      ]
    },
    {
      "cell_type": "code",
      "metadata": {
        "id": "s5sXXOGznTmh",
        "colab_type": "code",
        "outputId": "eca8c930-98a6-4849-ad2d-9d1844a4a1fa",
        "colab": {
          "base_uri": "https://localhost:8080/",
          "height": 285
        }
      },
      "source": [
        "data.apply(lambda x: len(x)).value_counts(normalize = True).plot.bar()"
      ],
      "execution_count": 81,
      "outputs": [
        {
          "output_type": "execute_result",
          "data": {
            "text/plain": [
              "<matplotlib.axes._subplots.AxesSubplot at 0x7f44c36b57b8>"
            ]
          },
          "metadata": {
            "tags": []
          },
          "execution_count": 81
        },
        {
          "output_type": "display_data",
          "data": {
            "image/png": "[encoded data removed]",
            "text/plain": [
              "<Figure size 432x288 with 1 Axes>"
            ]
          },
          "metadata": {
            "tags": []
          }
        }
      ]
    },
    {
      "cell_type": "code",
      "metadata": {
        "id": "dQoPcfxh1k_v",
        "colab_type": "code",
        "outputId": "5f23f742-0053-4555-b147-e5446bc5cb7b",
        "colab": {
          "base_uri": "https://localhost:8080/",
          "height": 34
        }
      },
      "source": [
        "data = data[data.apply(lambda x: len(x) > 4 and len(x) < 8)]\n",
        "\n",
        "# data = data[data.apply(lambda x: len(x) == 6)]\n",
        "data.shape"
      ],
      "execution_count": 82,
      "outputs": [
        {
          "output_type": "execute_result",
          "data": {
            "text/plain": [
              "(9162,)"
            ]
          },
          "metadata": {
            "tags": []
          },
          "execution_count": 82
        }
      ]
    },
    {
      "cell_type": "code",
      "metadata": {
        "id": "7dMhakx618sc",
        "colab_type": "code",
        "colab": {}
      },
      "source": [
        "data = data.reset_index().drop(['index'], axis = 1)"
      ],
      "execution_count": 0,
      "outputs": []
    },
    {
      "cell_type": "code",
      "metadata": {
        "id": "SVtLgJcm4s_3",
        "colab_type": "code",
        "colab": {}
      },
      "source": [
        "data.columns = ['name']"
      ],
      "execution_count": 0,
      "outputs": []
    },
    {
      "cell_type": "code",
      "metadata": {
        "id": "VXxZb6-Qz82o",
        "colab_type": "code",
        "colab": {}
      },
      "source": [
        "data = pd.Series(data['name'])"
      ],
      "execution_count": 0,
      "outputs": []
    },
    {
      "cell_type": "code",
      "metadata": {
        "id": "mwjvgXyVFjaA",
        "colab_type": "code",
        "colab": {
          "base_uri": "https://localhost:8080/",
          "height": 68
        },
        "outputId": "387b7a6a-89bf-4393-faf4-4d6887e17b31"
      },
      "source": [
        "data.explode().unique()"
      ],
      "execution_count": 89,
      "outputs": [
        {
          "output_type": "execute_result",
          "data": {
            "text/plain": [
              "array(['w', 'i', 'l', 'a', 'm', 'j', 'e', 's', 'c', 'h', 'r', 'g', 'o',\n",
              "       'f', 'n', 'k', 'p', 't', 'y', 'b', 'd', 'u', 'v', 'z', 'x', 'q'],\n",
              "      dtype=object)"
            ]
          },
          "metadata": {
            "tags": []
          },
          "execution_count": 89
        }
      ]
    },
    {
      "cell_type": "code",
      "metadata": {
        "id": "z0MzWK1g5B5U",
        "colab_type": "code",
        "outputId": "6ce7ee81-583b-48ab-a1f4-ed6fc8f8c4b4",
        "colab": {
          "base_uri": "https://localhost:8080/",
          "height": 282
        }
      },
      "source": [
        "data.explode().value_counts(normalize = True).plot.bar()"
      ],
      "execution_count": 90,
      "outputs": [
        {
          "output_type": "execute_result",
          "data": {
            "text/plain": [
              "<matplotlib.axes._subplots.AxesSubplot at 0x7f44c2173a20>"
            ]
          },
          "metadata": {
            "tags": []
          },
          "execution_count": 90
        },
        {
          "output_type": "display_data",
          "data": {
            "image/png": "[encoded data removed]",
            "text/plain": [
              "<Figure size 432x288 with 1 Axes>"
            ]
          },
          "metadata": {
            "tags": []
          }
        }
      ]
    },
    {
      "cell_type": "code",
      "metadata": {
        "id": "d4vE9fhT5rSd",
        "colab_type": "code",
        "outputId": "da459e81-4722-4e6a-aa94-b2098da26144",
        "colab": {
          "base_uri": "https://localhost:8080/",
          "height": 282
        }
      },
      "source": [
        "data.apply(lambda x: x[0]).value_counts(normalize = True).plot.bar()"
      ],
      "execution_count": 91,
      "outputs": [
        {
          "output_type": "execute_result",
          "data": {
            "text/plain": [
              "<matplotlib.axes._subplots.AxesSubplot at 0x7f44c2102898>"
            ]
          },
          "metadata": {
            "tags": []
          },
          "execution_count": 91
        },
        {
          "output_type": "display_data",
          "data": {
            "image/png": "[encoded data removed]",
            "text/plain": [
              "<Figure size 432x288 with 1 Axes>"
            ]
          },
          "metadata": {
            "tags": []
          }
        }
      ]
    },
    {
      "cell_type": "code",
      "metadata": {
        "id": "oBgoKjxt58Vr",
        "colab_type": "code",
        "outputId": "5087bc9a-1f27-4c31-bb3f-4f4845819bb5",
        "colab": {
          "base_uri": "https://localhost:8080/",
          "height": 286
        }
      },
      "source": [
        "data.apply(lambda x: x[1]).value_counts(normalize = True).plot.bar()"
      ],
      "execution_count": 92,
      "outputs": [
        {
          "output_type": "execute_result",
          "data": {
            "text/plain": [
              "<matplotlib.axes._subplots.AxesSubplot at 0x7f44c206eb00>"
            ]
          },
          "metadata": {
            "tags": []
          },
          "execution_count": 92
        },
        {
          "output_type": "display_data",
          "data": {
            "image/png": "[encoded data removed]",
            "text/plain": [
              "<Figure size 432x288 with 1 Axes>"
            ]
          },
          "metadata": {
            "tags": []
          }
        }
      ]
    },
    {
      "cell_type": "code",
      "metadata": {
        "id": "92TtLG-65_YH",
        "colab_type": "code",
        "outputId": "6ea69c33-f118-4fe7-8782-65e34a308d8e",
        "colab": {
          "base_uri": "https://localhost:8080/",
          "height": 282
        }
      },
      "source": [
        "data.apply(lambda x: x[-1]).value_counts(normalize = True).plot.bar()"
      ],
      "execution_count": 93,
      "outputs": [
        {
          "output_type": "execute_result",
          "data": {
            "text/plain": [
              "<matplotlib.axes._subplots.AxesSubplot at 0x7f44c1f64a58>"
            ]
          },
          "metadata": {
            "tags": []
          },
          "execution_count": 93
        },
        {
          "output_type": "display_data",
          "data": {
            "image/png": "[encoded data removed]",
            "text/plain": [
              "<Figure size 432x288 with 1 Axes>"
            ]
          },
          "metadata": {
            "tags": []
          }
        }
      ]
    },
    {
      "cell_type": "code",
      "metadata": {
        "id": "d5lbcdS2422_",
        "colab_type": "code",
        "colab": {}
      },
      "source": [
        "data = data.apply(lambda x: token_idx(x))"
      ],
      "execution_count": 0,
      "outputs": []
    },
    {
      "cell_type": "code",
      "metadata": {
        "id": "AwHuIVJq6_RU",
        "colab_type": "code",
        "colab": {}
      },
      "source": [
        "max_length = max([len(i) for i in data])\n",
        "data = data.apply(lambda x: end_pad(x, max_length))"
      ],
      "execution_count": 0,
      "outputs": []
    },
    {
      "cell_type": "code",
      "metadata": {
        "id": "o0dnc76P7QJ5",
        "colab_type": "code",
        "colab": {}
      },
      "source": [
        "data = data.sample(frac = 1)"
      ],
      "execution_count": 0,
      "outputs": []
    },
    {
      "cell_type": "code",
      "metadata": {
        "id": "dX0gFGIX-04U",
        "colab_type": "code",
        "outputId": "1f70b27d-25e6-4351-d3d0-465361daf2d7",
        "colab": {
          "base_uri": "https://localhost:8080/",
          "height": 34
        }
      },
      "source": [
        "data_subset = data#[0:100]\n",
        "m = len(data_subset)\n",
        "print(\"Number of Training Examples:\", m)"
      ],
      "execution_count": 97,
      "outputs": [
        {
          "output_type": "stream",
          "text": [
            "Number of Training Examples: 9162\n"
          ],
          "name": "stdout"
        }
      ]
    },
    {
      "cell_type": "code",
      "metadata": {
        "id": "2o36IWNwnzXJ",
        "colab_type": "code",
        "colab": {}
      },
      "source": [
        "# X_tokens = np.array(data_subset.values.tolist()).reshape(1, m, -1)\n",
        "# Y_tokens = np.array(data_subset.apply(lambda x: x[1:]).apply(lambda x: x + [chr_to_idx['\\n']]).values.tolist()).reshape(1, m, -1)\n",
        "\n",
        "# X = one_hot(X_tokens, vocab_size)\n",
        "# Y = one_hot(Y_tokens, vocab_size)"
      ],
      "execution_count": 0,
      "outputs": []
    },
    {
      "cell_type": "code",
      "metadata": {
        "id": "yuZWKnr_Abn-",
        "colab_type": "code",
        "colab": {}
      },
      "source": [
        "X_pre = np.array(data_subset.values.tolist()).reshape(m, max_length, 1)"
      ],
      "execution_count": 0,
      "outputs": []
    },
    {
      "cell_type": "code",
      "metadata": {
        "id": "Gn-KaI4TCP-9",
        "colab_type": "code",
        "colab": {}
      },
      "source": [
        "X = one_hot(X_pre, vocab_size, m)"
      ],
      "execution_count": 0,
      "outputs": []
    },
    {
      "cell_type": "code",
      "metadata": {
        "id": "gx3iiIq97hlC",
        "colab_type": "code",
        "colab": {}
      },
      "source": [
        "Y_pre = np.array(data_subset.apply(lambda x: x[1:]).apply(lambda x: x + [chr_to_idx['\\n']]).values.tolist()).reshape(m, max_length, 1)"
      ],
      "execution_count": 0,
      "outputs": []
    },
    {
      "cell_type": "code",
      "metadata": {
        "id": "RJ0UHrl6EG0S",
        "colab_type": "code",
        "colab": {}
      },
      "source": [
        "Y = one_hot(Y_pre, vocab_size, m)"
      ],
      "execution_count": 0,
      "outputs": []
    },
    {
      "cell_type": "code",
      "metadata": {
        "id": "M6DmDGQBEKbA",
        "colab_type": "code",
        "colab": {}
      },
      "source": [
        "Y = np.transpose(Y, axes = [1, 0, 2])"
      ],
      "execution_count": 0,
      "outputs": []
    },
    {
      "cell_type": "code",
      "metadata": {
        "id": "ZMeiQdW6kunX",
        "colab_type": "code",
        "outputId": "dd6d9fac-9804-4297-acee-41614504c022",
        "colab": {
          "base_uri": "https://localhost:8080/",
          "height": 51
        }
      },
      "source": [
        "print(X.shape)\n",
        "print(Y.shape)"
      ],
      "execution_count": 104,
      "outputs": [
        {
          "output_type": "stream",
          "text": [
            "(9162, 7, 27)\n",
            "(7, 9162, 27)\n"
          ],
          "name": "stdout"
        }
      ]
    },
    {
      "cell_type": "markdown",
      "metadata": {
        "id": "VE9GqK83IvQ8",
        "colab_type": "text"
      },
      "source": [
        "## Model Building"
      ]
    },
    {
      "cell_type": "code",
      "metadata": {
        "id": "hqjTKEoFIpGS",
        "colab_type": "code",
        "outputId": "fde86bf5-4fdb-4c39-b9a8-528512aa071a",
        "colab": {
          "base_uri": "https://localhost:8080/",
          "height": 80
        }
      },
      "source": [
        "import tensorflow as tf\n",
        "from keras.models import load_model, Model\n",
        "from keras.layers import Dense, Activation, Dropout, Input, LSTM, Reshape, Lambda, RepeatVector\n",
        "from keras.initializers import glorot_uniform\n",
        "from keras.utils import to_categorical\n",
        "from keras.optimizers import Adam\n",
        "from keras import backend as K"
      ],
      "execution_count": 105,
      "outputs": [
        {
          "output_type": "display_data",
          "data": {
            "text/html": [
              "<p style=\"color: red;\">\n",
              "The default version of TensorFlow in Colab will soon switch to TensorFlow 2.x.<br>\n",
              "We recommend you <a href=\"https://www.tensorflow.org/guide/migrate\" target=\"_blank\">upgrade</a> now \n",
              "or ensure your notebook will continue to use TensorFlow 1.x via the <code>%tensorflow_version 1.x</code> magic:\n",
              "<a href=\"https://colab.research.google.com/notebooks/tensorflow_version.ipynb\" target=\"_blank\">more info</a>.</p>\n"
            ],
            "text/plain": [
              "<IPython.core.display.HTML object>"
            ]
          },
          "metadata": {
            "tags": []
          }
        },
        {
          "output_type": "stream",
          "text": [
            "Using TensorFlow backend.\n"
          ],
          "name": "stderr"
        }
      ]
    },
    {
      "cell_type": "code",
      "metadata": {
        "id": "35RxuQTzr7O-",
        "colab_type": "code",
        "colab": {}
      },
      "source": [
        "from keras.layers import CuDNNLSTM"
      ],
      "execution_count": 0,
      "outputs": []
    },
    {
      "cell_type": "code",
      "metadata": {
        "id": "EozG6IDMNc_o",
        "colab_type": "code",
        "outputId": "b286e6e1-f9ac-481f-d960-035177847078",
        "colab": {
          "base_uri": "https://localhost:8080/",
          "height": 51
        }
      },
      "source": [
        "print(X.shape)\n",
        "print(Y.shape)"
      ],
      "execution_count": 107,
      "outputs": [
        {
          "output_type": "stream",
          "text": [
            "(9162, 7, 27)\n",
            "(7, 9162, 27)\n"
          ],
          "name": "stdout"
        }
      ]
    },
    {
      "cell_type": "code",
      "metadata": {
        "id": "qYdWNd59IpBz",
        "colab_type": "code",
        "colab": {}
      },
      "source": [
        "n_a = 512\n",
        "\n",
        "Tx = Ty = max_length\n",
        "n_values = vocab_size"
      ],
      "execution_count": 0,
      "outputs": []
    },
    {
      "cell_type": "code",
      "metadata": {
        "id": "DvAxidZNIo8c",
        "colab_type": "code",
        "colab": {}
      },
      "source": [
        "reshapor_1 = Reshape((1, n_values))    \n",
        "\n",
        "reshapor_2 = Reshape((n_a, 1))   \n",
        "\n",
        "#LSTM_cell = LSTM(n_a, return_state = True) \n",
        "\n",
        "LSTM_cell_1 = CuDNNLSTM(n_a, return_state = True)\n",
        "\n",
        "LSTM_cell_2 = CuDNNLSTM(n_a, return_state = True)\n",
        "\n",
        "densor = Dense(n_values, activation='softmax')"
      ],
      "execution_count": 0,
      "outputs": []
    },
    {
      "cell_type": "code",
      "metadata": {
        "id": "KukGXZlmIo50",
        "colab_type": "code",
        "colab": {}
      },
      "source": [
        "def name_model(Tx, n_a, n_values):\n",
        "\n",
        "    X = Input(shape = (Tx, n_values))\n",
        "\n",
        "    a_10 = Input(shape=(n_a,), name='a_10')\n",
        "    c_10 = Input(shape=(n_a,), name='c_10')\n",
        "\n",
        "    # a_20 = Input(shape=(n_a,), name='a_20')\n",
        "    # c_20 = Input(shape=(n_a,), name='c_20')\n",
        "\n",
        "    a_1 = a_10\n",
        "    c_1 = c_10\n",
        "    # a_2 = a_20\n",
        "    # c_2 = c_20\n",
        "\n",
        "    outputs = []\n",
        "\n",
        "    for t in range(Tx):\n",
        "\n",
        "      x = Lambda(lambda z: z[:, t, :])(X)\n",
        "\n",
        "      x_1 = reshapor_1(x)\n",
        "\n",
        "      a_1, _, c_1 = LSTM_cell_1(inputs = x_1, initial_state = [a_1, c_1])\n",
        "      out = densor(a_1)\n",
        "\n",
        "    #   x_2 = reshapor_2(a_1)\n",
        "    #   a_2, _, c_2 = LSTM_cell_2(inputs = x_2, initial_state = [a_2, c_2])\n",
        "    #   out = densor(a_2)\n",
        "\n",
        "      outputs.append(out)\n",
        "\n",
        "    # model = Model(inputs = [X, a_10, c_10, a_20, c_20], outputs = outputs)\n",
        "    model = Model(inputs = [X, a_10, c_10], outputs = outputs)\n",
        "\n",
        "    return model"
      ],
      "execution_count": 0,
      "outputs": []
    },
    {
      "cell_type": "code",
      "metadata": {
        "id": "pY9gKSyJW8X1",
        "colab_type": "code",
        "colab": {}
      },
      "source": [
        "del(model)\n",
        "del(name_model)"
      ],
      "execution_count": 0,
      "outputs": []
    },
    {
      "cell_type": "code",
      "metadata": {
        "id": "W5Il4cy6Io17",
        "colab_type": "code",
        "colab": {}
      },
      "source": [
        "model = name_model(Tx, n_a, n_values)"
      ],
      "execution_count": 0,
      "outputs": []
    },
    {
      "cell_type": "code",
      "metadata": {
        "id": "nnGO5x7FRj1m",
        "colab_type": "code",
        "outputId": "081a7553-ce3c-4746-a548-ea9347479679",
        "colab": {
          "base_uri": "https://localhost:8080/",
          "height": 1000
        }
      },
      "source": [
        "model.summary()"
      ],
      "execution_count": 155,
      "outputs": [
        {
          "output_type": "stream",
          "text": [
            "Model: \"model_5\"\n",
            "__________________________________________________________________________________________________\n",
            "Layer (type)                    Output Shape         Param #     Connected to                     \n",
            "==================================================================================================\n",
            "input_5 (InputLayer)            (None, 7, 27)        0                                            \n",
            "__________________________________________________________________________________________________\n",
            "lambda_29 (Lambda)              (None, 27)           0           input_5[0][0]                    \n",
            "__________________________________________________________________________________________________\n",
            "reshape_5 (Reshape)             (None, 1, 27)        0           lambda_29[0][0]                  \n",
            "                                                                 lambda_30[0][0]                  \n",
            "                                                                 lambda_31[0][0]                  \n",
            "                                                                 lambda_32[0][0]                  \n",
            "                                                                 lambda_33[0][0]                  \n",
            "                                                                 lambda_34[0][0]                  \n",
            "                                                                 lambda_35[0][0]                  \n",
            "__________________________________________________________________________________________________\n",
            "a_10 (InputLayer)               (None, 512)          0                                            \n",
            "__________________________________________________________________________________________________\n",
            "c_10 (InputLayer)               (None, 512)          0                                            \n",
            "__________________________________________________________________________________________________\n",
            "lambda_30 (Lambda)              (None, 27)           0           input_5[0][0]                    \n",
            "__________________________________________________________________________________________________\n",
            "cu_dnnlstm_5 (CuDNNLSTM)        [(None, 512), (None, 1107968     reshape_5[7][0]                  \n",
            "                                                                 a_10[0][0]                       \n",
            "                                                                 c_10[0][0]                       \n",
            "                                                                 reshape_5[8][0]                  \n",
            "                                                                 cu_dnnlstm_5[14][0]              \n",
            "                                                                 cu_dnnlstm_5[14][2]              \n",
            "                                                                 reshape_5[9][0]                  \n",
            "                                                                 cu_dnnlstm_5[15][0]              \n",
            "                                                                 cu_dnnlstm_5[15][2]              \n",
            "                                                                 reshape_5[10][0]                 \n",
            "                                                                 cu_dnnlstm_5[16][0]              \n",
            "                                                                 cu_dnnlstm_5[16][2]              \n",
            "                                                                 reshape_5[11][0]                 \n",
            "                                                                 cu_dnnlstm_5[17][0]              \n",
            "                                                                 cu_dnnlstm_5[17][2]              \n",
            "                                                                 reshape_5[12][0]                 \n",
            "                                                                 cu_dnnlstm_5[18][0]              \n",
            "                                                                 cu_dnnlstm_5[18][2]              \n",
            "                                                                 reshape_5[13][0]                 \n",
            "                                                                 cu_dnnlstm_5[19][0]              \n",
            "                                                                 cu_dnnlstm_5[19][2]              \n",
            "__________________________________________________________________________________________________\n",
            "lambda_31 (Lambda)              (None, 27)           0           input_5[0][0]                    \n",
            "__________________________________________________________________________________________________\n",
            "lambda_32 (Lambda)              (None, 27)           0           input_5[0][0]                    \n",
            "__________________________________________________________________________________________________\n",
            "lambda_33 (Lambda)              (None, 27)           0           input_5[0][0]                    \n",
            "__________________________________________________________________________________________________\n",
            "lambda_34 (Lambda)              (None, 27)           0           input_5[0][0]                    \n",
            "__________________________________________________________________________________________________\n",
            "lambda_35 (Lambda)              (None, 27)           0           input_5[0][0]                    \n",
            "__________________________________________________________________________________________________\n",
            "dense_3 (Dense)                 (None, 27)           13851       cu_dnnlstm_5[14][0]              \n",
            "                                                                 cu_dnnlstm_5[15][0]              \n",
            "                                                                 cu_dnnlstm_5[16][0]              \n",
            "                                                                 cu_dnnlstm_5[17][0]              \n",
            "                                                                 cu_dnnlstm_5[18][0]              \n",
            "                                                                 cu_dnnlstm_5[19][0]              \n",
            "                                                                 cu_dnnlstm_5[20][0]              \n",
            "==================================================================================================\n",
            "Total params: 1,121,819\n",
            "Trainable params: 1,121,819\n",
            "Non-trainable params: 0\n",
            "__________________________________________________________________________________________________\n"
          ],
          "name": "stdout"
        }
      ]
    },
    {
      "cell_type": "code",
      "metadata": {
        "id": "wSY8RZ_SRlnZ",
        "colab_type": "code",
        "colab": {}
      },
      "source": [
        "opt = Adam(lr = 0.01, beta_1 = 0.9, beta_2 = 0.999, decay = 0.01)\n",
        "\n",
        "model.compile(optimizer= opt, loss='categorical_crossentropy', metrics=['accuracy'])"
      ],
      "execution_count": 0,
      "outputs": []
    },
    {
      "cell_type": "code",
      "metadata": {
        "id": "R6IRvmnuSYaW",
        "colab_type": "code",
        "colab": {}
      },
      "source": [
        "a_10 = np.zeros((m, n_a))\n",
        "c_10 = np.zeros((m, n_a))\n",
        "\n",
        "a_20 = np.zeros((m, n_a))\n",
        "c_20 = np.zeros((m, n_a))"
      ],
      "execution_count": 0,
      "outputs": []
    },
    {
      "cell_type": "markdown",
      "metadata": {
        "id": "ROEY7nR-m4j1",
        "colab_type": "text"
      },
      "source": [
        "#### Training"
      ]
    },
    {
      "cell_type": "code",
      "metadata": {
        "id": "7Tv_pyN4RiQ8",
        "colab_type": "code",
        "outputId": "55dab42c-a864-41d6-bc5d-1cf55003a22c",
        "colab": {
          "base_uri": "https://localhost:8080/",
          "height": 1000
        }
      },
      "source": [
        "model.fit([X, a_10, c_10], list(Y), epochs = 100)\n",
        "# model.save('Namer_v1.h5')"
      ],
      "execution_count": 158,
      "outputs": [
        {
          "output_type": "stream",
          "text": [
            "Epoch 1/100\n",
            "9162/9162 [==============================] - 10s 1ms/step - loss: 11.1083 - dense_3_loss: 0.0050 - dense_3_acc: 0.3670 - dense_3_acc_1: 0.2450 - dense_3_acc_2: 0.2775 - dense_3_acc_3: 0.3319 - dense_3_acc_4: 0.4489 - dense_3_acc_5: 0.7612 - dense_3_acc_6: 0.9997\n",
            "Epoch 2/100\n",
            "9162/9162 [==============================] - 8s 905us/step - loss: 10.2982 - dense_3_loss: 0.0011 - dense_3_acc: 0.3687 - dense_3_acc_1: 0.2591 - dense_3_acc_2: 0.3176 - dense_3_acc_3: 0.3877 - dense_3_acc_4: 0.5134 - dense_3_acc_5: 0.8019 - dense_3_acc_6: 0.9999\n",
            "Epoch 3/100\n",
            "9162/9162 [==============================] - 9s 955us/step - loss: 9.8435 - dense_3_loss: 8.7516e-04 - dense_3_acc: 0.3725 - dense_3_acc_1: 0.2678 - dense_3_acc_2: 0.3329 - dense_3_acc_3: 0.4176 - dense_3_acc_4: 0.5600 - dense_3_acc_5: 0.8374 - dense_3_acc_6: 1.0000\n",
            "Epoch 4/100\n",
            "9162/9162 [==============================] - 8s 919us/step - loss: 9.5093 - dense_3_loss: 5.5342e-04 - dense_3_acc: 0.3735 - dense_3_acc_1: 0.2734 - dense_3_acc_2: 0.3422 - dense_3_acc_3: 0.4368 - dense_3_acc_4: 0.5916 - dense_3_acc_5: 0.8617 - dense_3_acc_6: 1.0000\n",
            "Epoch 5/100\n",
            "9162/9162 [==============================] - 8s 925us/step - loss: 9.2525 - dense_3_loss: 3.3949e-04 - dense_3_acc: 0.3724 - dense_3_acc_1: 0.2769 - dense_3_acc_2: 0.3533 - dense_3_acc_3: 0.4560 - dense_3_acc_4: 0.6246 - dense_3_acc_5: 0.8785 - dense_3_acc_6: 1.0000\n",
            "Epoch 6/100\n",
            "9162/9162 [==============================] - 9s 940us/step - loss: 9.0572 - dense_3_loss: 3.0028e-04 - dense_3_acc: 0.3742 - dense_3_acc_1: 0.2785 - dense_3_acc_2: 0.3617 - dense_3_acc_3: 0.4673 - dense_3_acc_4: 0.6411 - dense_3_acc_5: 0.8930 - dense_3_acc_6: 1.0000\n",
            "Epoch 7/100\n",
            "9162/9162 [==============================] - 9s 930us/step - loss: 8.8915 - dense_3_loss: 2.4901e-04 - dense_3_acc: 0.3718 - dense_3_acc_1: 0.2806 - dense_3_acc_2: 0.3628 - dense_3_acc_3: 0.4790 - dense_3_acc_4: 0.6620 - dense_3_acc_5: 0.9052 - dense_3_acc_6: 1.0000\n",
            "Epoch 8/100\n",
            "9162/9162 [==============================] - 8s 911us/step - loss: 8.7573 - dense_3_loss: 2.2091e-04 - dense_3_acc: 0.3735 - dense_3_acc_1: 0.2794 - dense_3_acc_2: 0.3655 - dense_3_acc_3: 0.4945 - dense_3_acc_4: 0.6807 - dense_3_acc_5: 0.9107 - dense_3_acc_6: 1.0000\n",
            "Epoch 9/100\n",
            "9162/9162 [==============================] - 9s 934us/step - loss: 8.6461 - dense_3_loss: 2.3865e-04 - dense_3_acc: 0.3740 - dense_3_acc_1: 0.2805 - dense_3_acc_2: 0.3746 - dense_3_acc_3: 0.4950 - dense_3_acc_4: 0.6934 - dense_3_acc_5: 0.9160 - dense_3_acc_6: 1.0000\n",
            "Epoch 10/100\n",
            "9162/9162 [==============================] - 8s 925us/step - loss: 8.5472 - dense_3_loss: 2.1016e-04 - dense_3_acc: 0.3728 - dense_3_acc_1: 0.2815 - dense_3_acc_2: 0.3750 - dense_3_acc_3: 0.5057 - dense_3_acc_4: 0.7093 - dense_3_acc_5: 0.9172 - dense_3_acc_6: 1.0000\n",
            "Epoch 11/100\n",
            "9162/9162 [==============================] - 9s 936us/step - loss: 8.4649 - dense_3_loss: 1.8136e-04 - dense_3_acc: 0.3733 - dense_3_acc_1: 0.2821 - dense_3_acc_2: 0.3796 - dense_3_acc_3: 0.5116 - dense_3_acc_4: 0.7205 - dense_3_acc_5: 0.9227 - dense_3_acc_6: 1.0000\n",
            "Epoch 12/100\n",
            "9162/9162 [==============================] - 9s 971us/step - loss: 8.3915 - dense_3_loss: 2.0445e-04 - dense_3_acc: 0.3732 - dense_3_acc_1: 0.2820 - dense_3_acc_2: 0.3803 - dense_3_acc_3: 0.5170 - dense_3_acc_4: 0.7263 - dense_3_acc_5: 0.9232 - dense_3_acc_6: 1.0000\n",
            "Epoch 13/100\n",
            "9162/9162 [==============================] - 9s 964us/step - loss: 8.3271 - dense_3_loss: 1.8719e-04 - dense_3_acc: 0.3738 - dense_3_acc_1: 0.2857 - dense_3_acc_2: 0.3791 - dense_3_acc_3: 0.5246 - dense_3_acc_4: 0.7322 - dense_3_acc_5: 0.9257 - dense_3_acc_6: 1.0000\n",
            "Epoch 14/100\n",
            "9162/9162 [==============================] - 9s 945us/step - loss: 8.2728 - dense_3_loss: 1.4162e-04 - dense_3_acc: 0.3737 - dense_3_acc_1: 0.2844 - dense_3_acc_2: 0.3868 - dense_3_acc_3: 0.5298 - dense_3_acc_4: 0.7391 - dense_3_acc_5: 0.9268 - dense_3_acc_6: 1.0000\n",
            "Epoch 15/100\n",
            "9162/9162 [==============================] - 8s 924us/step - loss: 8.2217 - dense_3_loss: 1.6749e-04 - dense_3_acc: 0.3731 - dense_3_acc_1: 0.2860 - dense_3_acc_2: 0.3868 - dense_3_acc_3: 0.5355 - dense_3_acc_4: 0.7441 - dense_3_acc_5: 0.9258 - dense_3_acc_6: 1.0000\n",
            "Epoch 16/100\n",
            "9162/9162 [==============================] - 9s 966us/step - loss: 8.1759 - dense_3_loss: 1.4802e-04 - dense_3_acc: 0.3739 - dense_3_acc_1: 0.2840 - dense_3_acc_2: 0.3862 - dense_3_acc_3: 0.5382 - dense_3_acc_4: 0.7509 - dense_3_acc_5: 0.9298 - dense_3_acc_6: 1.0000\n",
            "Epoch 17/100\n",
            "9162/9162 [==============================] - 9s 937us/step - loss: 8.1331 - dense_3_loss: 1.5651e-04 - dense_3_acc: 0.3739 - dense_3_acc_1: 0.2847 - dense_3_acc_2: 0.3880 - dense_3_acc_3: 0.5435 - dense_3_acc_4: 0.7540 - dense_3_acc_5: 0.9298 - dense_3_acc_6: 1.0000\n",
            "Epoch 18/100\n",
            "9162/9162 [==============================] - 9s 951us/step - loss: 8.0963 - dense_3_loss: 1.6096e-04 - dense_3_acc: 0.3739 - dense_3_acc_1: 0.2841 - dense_3_acc_2: 0.3869 - dense_3_acc_3: 0.5439 - dense_3_acc_4: 0.7578 - dense_3_acc_5: 0.9295 - dense_3_acc_6: 1.0000\n",
            "Epoch 19/100\n",
            "9162/9162 [==============================] - 9s 949us/step - loss: 8.0623 - dense_3_loss: 1.6930e-04 - dense_3_acc: 0.3733 - dense_3_acc_1: 0.2859 - dense_3_acc_2: 0.3902 - dense_3_acc_3: 0.5499 - dense_3_acc_4: 0.7626 - dense_3_acc_5: 0.9306 - dense_3_acc_6: 1.0000\n",
            "Epoch 20/100\n",
            "9162/9162 [==============================] - 9s 956us/step - loss: 8.0293 - dense_3_loss: 1.4256e-04 - dense_3_acc: 0.3728 - dense_3_acc_1: 0.2845 - dense_3_acc_2: 0.3914 - dense_3_acc_3: 0.5508 - dense_3_acc_4: 0.7629 - dense_3_acc_5: 0.9305 - dense_3_acc_6: 1.0000\n",
            "Epoch 21/100\n",
            "9162/9162 [==============================] - 9s 952us/step - loss: 7.9996 - dense_3_loss: 1.2713e-04 - dense_3_acc: 0.3731 - dense_3_acc_1: 0.2855 - dense_3_acc_2: 0.3931 - dense_3_acc_3: 0.5550 - dense_3_acc_4: 0.7666 - dense_3_acc_5: 0.9303 - dense_3_acc_6: 1.0000\n",
            "Epoch 22/100\n",
            "9162/9162 [==============================] - 8s 926us/step - loss: 7.9724 - dense_3_loss: 1.3612e-04 - dense_3_acc: 0.3743 - dense_3_acc_1: 0.2852 - dense_3_acc_2: 0.3923 - dense_3_acc_3: 0.5599 - dense_3_acc_4: 0.7706 - dense_3_acc_5: 0.9308 - dense_3_acc_6: 1.0000\n",
            "Epoch 23/100\n",
            "9162/9162 [==============================] - 8s 919us/step - loss: 7.9480 - dense_3_loss: 1.3063e-04 - dense_3_acc: 0.3737 - dense_3_acc_1: 0.2855 - dense_3_acc_2: 0.3925 - dense_3_acc_3: 0.5622 - dense_3_acc_4: 0.7747 - dense_3_acc_5: 0.9277 - dense_3_acc_6: 1.0000\n",
            "Epoch 24/100\n",
            "9162/9162 [==============================] - 9s 937us/step - loss: 7.9227 - dense_3_loss: 1.1680e-04 - dense_3_acc: 0.3738 - dense_3_acc_1: 0.2877 - dense_3_acc_2: 0.3933 - dense_3_acc_3: 0.5630 - dense_3_acc_4: 0.7741 - dense_3_acc_5: 0.9294 - dense_3_acc_6: 1.0000\n",
            "Epoch 25/100\n",
            "9162/9162 [==============================] - 8s 913us/step - loss: 7.9011 - dense_3_loss: 1.2710e-04 - dense_3_acc: 0.3739 - dense_3_acc_1: 0.2871 - dense_3_acc_2: 0.3954 - dense_3_acc_3: 0.5659 - dense_3_acc_4: 0.7776 - dense_3_acc_5: 0.9321 - dense_3_acc_6: 1.0000\n",
            "Epoch 26/100\n",
            "9162/9162 [==============================] - 9s 945us/step - loss: 7.8811 - dense_3_loss: 1.4338e-04 - dense_3_acc: 0.3737 - dense_3_acc_1: 0.2879 - dense_3_acc_2: 0.3974 - dense_3_acc_3: 0.5707 - dense_3_acc_4: 0.7749 - dense_3_acc_5: 0.9303 - dense_3_acc_6: 1.0000\n",
            "Epoch 27/100\n",
            "9162/9162 [==============================] - 9s 947us/step - loss: 7.8595 - dense_3_loss: 1.1985e-04 - dense_3_acc: 0.3735 - dense_3_acc_1: 0.2868 - dense_3_acc_2: 0.3976 - dense_3_acc_3: 0.5700 - dense_3_acc_4: 0.7799 - dense_3_acc_5: 0.9318 - dense_3_acc_6: 1.0000\n",
            "Epoch 28/100\n",
            "9162/9162 [==============================] - 8s 895us/step - loss: 7.8415 - dense_3_loss: 1.1672e-04 - dense_3_acc: 0.3737 - dense_3_acc_1: 0.2867 - dense_3_acc_2: 0.3996 - dense_3_acc_3: 0.5733 - dense_3_acc_4: 0.7857 - dense_3_acc_5: 0.9303 - dense_3_acc_6: 1.0000\n",
            "Epoch 29/100\n",
            "9162/9162 [==============================] - 9s 942us/step - loss: 7.8242 - dense_3_loss: 1.2891e-04 - dense_3_acc: 0.3739 - dense_3_acc_1: 0.2871 - dense_3_acc_2: 0.3979 - dense_3_acc_3: 0.5740 - dense_3_acc_4: 0.7812 - dense_3_acc_5: 0.9321 - dense_3_acc_6: 1.0000\n",
            "Epoch 30/100\n",
            "9162/9162 [==============================] - 9s 973us/step - loss: 7.8063 - dense_3_loss: 1.0457e-04 - dense_3_acc: 0.3734 - dense_3_acc_1: 0.2890 - dense_3_acc_2: 0.3993 - dense_3_acc_3: 0.5761 - dense_3_acc_4: 0.7859 - dense_3_acc_5: 0.9322 - dense_3_acc_6: 1.0000\n",
            "Epoch 31/100\n",
            "9162/9162 [==============================] - 9s 966us/step - loss: 7.7909 - dense_3_loss: 1.0991e-04 - dense_3_acc: 0.3737 - dense_3_acc_1: 0.2880 - dense_3_acc_2: 0.4009 - dense_3_acc_3: 0.5776 - dense_3_acc_4: 0.7842 - dense_3_acc_5: 0.9295 - dense_3_acc_6: 1.0000\n",
            "Epoch 32/100\n",
            "9162/9162 [==============================] - 8s 927us/step - loss: 7.7740 - dense_3_loss: 1.1293e-04 - dense_3_acc: 0.3739 - dense_3_acc_1: 0.2871 - dense_3_acc_2: 0.4001 - dense_3_acc_3: 0.5831 - dense_3_acc_4: 0.7860 - dense_3_acc_5: 0.9319 - dense_3_acc_6: 1.0000\n",
            "Epoch 33/100\n",
            "9162/9162 [==============================] - 9s 936us/step - loss: 7.7596 - dense_3_loss: 1.1828e-04 - dense_3_acc: 0.3739 - dense_3_acc_1: 0.2874 - dense_3_acc_2: 0.4005 - dense_3_acc_3: 0.5810 - dense_3_acc_4: 0.7876 - dense_3_acc_5: 0.9312 - dense_3_acc_6: 1.0000\n",
            "Epoch 34/100\n",
            "9162/9162 [==============================] - 9s 928us/step - loss: 7.7466 - dense_3_loss: 1.0674e-04 - dense_3_acc: 0.3739 - dense_3_acc_1: 0.2876 - dense_3_acc_2: 0.4025 - dense_3_acc_3: 0.5833 - dense_3_acc_4: 0.7916 - dense_3_acc_5: 0.9310 - dense_3_acc_6: 1.0000\n",
            "Epoch 35/100\n",
            "9162/9162 [==============================] - 8s 925us/step - loss: 7.7333 - dense_3_loss: 1.2029e-04 - dense_3_acc: 0.3739 - dense_3_acc_1: 0.2868 - dense_3_acc_2: 0.4026 - dense_3_acc_3: 0.5826 - dense_3_acc_4: 0.7919 - dense_3_acc_5: 0.9301 - dense_3_acc_6: 1.0000\n",
            "Epoch 36/100\n",
            "9162/9162 [==============================] - 9s 930us/step - loss: 7.7204 - dense_3_loss: 1.1951e-04 - dense_3_acc: 0.3739 - dense_3_acc_1: 0.2890 - dense_3_acc_2: 0.4048 - dense_3_acc_3: 0.5849 - dense_3_acc_4: 0.7927 - dense_3_acc_5: 0.9320 - dense_3_acc_6: 1.0000\n",
            "Epoch 37/100\n",
            "9162/9162 [==============================] - 8s 926us/step - loss: 7.7077 - dense_3_loss: 1.0959e-04 - dense_3_acc: 0.3739 - dense_3_acc_1: 0.2869 - dense_3_acc_2: 0.4030 - dense_3_acc_3: 0.5844 - dense_3_acc_4: 0.7934 - dense_3_acc_5: 0.9335 - dense_3_acc_6: 1.0000\n",
            "Epoch 38/100\n",
            "9162/9162 [==============================] - 9s 946us/step - loss: 7.6960 - dense_3_loss: 1.0649e-04 - dense_3_acc: 0.3739 - dense_3_acc_1: 0.2872 - dense_3_acc_2: 0.4019 - dense_3_acc_3: 0.5876 - dense_3_acc_4: 0.7941 - dense_3_acc_5: 0.9328 - dense_3_acc_6: 1.0000\n",
            "Epoch 39/100\n",
            "9162/9162 [==============================] - 9s 966us/step - loss: 7.6852 - dense_3_loss: 1.0983e-04 - dense_3_acc: 0.3739 - dense_3_acc_1: 0.2866 - dense_3_acc_2: 0.4043 - dense_3_acc_3: 0.5899 - dense_3_acc_4: 0.7967 - dense_3_acc_5: 0.9330 - dense_3_acc_6: 1.0000\n",
            "Epoch 40/100\n",
            "9162/9162 [==============================] - 9s 939us/step - loss: 7.6733 - dense_3_loss: 1.0498e-04 - dense_3_acc: 0.3739 - dense_3_acc_1: 0.2881 - dense_3_acc_2: 0.4040 - dense_3_acc_3: 0.5904 - dense_3_acc_4: 0.7979 - dense_3_acc_5: 0.9312 - dense_3_acc_6: 1.0000\n",
            "Epoch 41/100\n",
            "9162/9162 [==============================] - 8s 927us/step - loss: 7.6636 - dense_3_loss: 1.0172e-04 - dense_3_acc: 0.3739 - dense_3_acc_1: 0.2883 - dense_3_acc_2: 0.4052 - dense_3_acc_3: 0.5923 - dense_3_acc_4: 0.7957 - dense_3_acc_5: 0.9312 - dense_3_acc_6: 1.0000\n",
            "Epoch 42/100\n",
            "9162/9162 [==============================] - 9s 938us/step - loss: 7.6529 - dense_3_loss: 9.4691e-05 - dense_3_acc: 0.3739 - dense_3_acc_1: 0.2868 - dense_3_acc_2: 0.4064 - dense_3_acc_3: 0.5929 - dense_3_acc_4: 0.7984 - dense_3_acc_5: 0.9317 - dense_3_acc_6: 1.0000\n",
            "Epoch 43/100\n",
            "9162/9162 [==============================] - 9s 952us/step - loss: 7.6437 - dense_3_loss: 9.6811e-05 - dense_3_acc: 0.3737 - dense_3_acc_1: 0.2880 - dense_3_acc_2: 0.4066 - dense_3_acc_3: 0.5954 - dense_3_acc_4: 0.7990 - dense_3_acc_5: 0.9310 - dense_3_acc_6: 1.0000\n",
            "Epoch 44/100\n",
            "9162/9162 [==============================] - 9s 931us/step - loss: 7.6333 - dense_3_loss: 1.0205e-04 - dense_3_acc: 0.3739 - dense_3_acc_1: 0.2878 - dense_3_acc_2: 0.4066 - dense_3_acc_3: 0.5956 - dense_3_acc_4: 0.7985 - dense_3_acc_5: 0.9324 - dense_3_acc_6: 1.0000\n",
            "Epoch 45/100\n",
            "9162/9162 [==============================] - 9s 933us/step - loss: 7.6247 - dense_3_loss: 1.0098e-04 - dense_3_acc: 0.3739 - dense_3_acc_1: 0.2881 - dense_3_acc_2: 0.4076 - dense_3_acc_3: 0.5977 - dense_3_acc_4: 0.7962 - dense_3_acc_5: 0.9337 - dense_3_acc_6: 1.0000\n",
            "Epoch 46/100\n",
            "9162/9162 [==============================] - 9s 956us/step - loss: 7.6149 - dense_3_loss: 1.0155e-04 - dense_3_acc: 0.3739 - dense_3_acc_1: 0.2872 - dense_3_acc_2: 0.4072 - dense_3_acc_3: 0.5977 - dense_3_acc_4: 0.7992 - dense_3_acc_5: 0.9323 - dense_3_acc_6: 1.0000\n",
            "Epoch 47/100\n",
            "9162/9162 [==============================] - 9s 938us/step - loss: 7.6076 - dense_3_loss: 1.0037e-04 - dense_3_acc: 0.3739 - dense_3_acc_1: 0.2879 - dense_3_acc_2: 0.4050 - dense_3_acc_3: 0.5979 - dense_3_acc_4: 0.7987 - dense_3_acc_5: 0.9320 - dense_3_acc_6: 1.0000\n",
            "Epoch 48/100\n",
            "9162/9162 [==============================] - 9s 969us/step - loss: 7.5995 - dense_3_loss: 1.0009e-04 - dense_3_acc: 0.3739 - dense_3_acc_1: 0.2880 - dense_3_acc_2: 0.4068 - dense_3_acc_3: 0.6001 - dense_3_acc_4: 0.7996 - dense_3_acc_5: 0.9305 - dense_3_acc_6: 1.0000\n",
            "Epoch 49/100\n",
            "9162/9162 [==============================] - 9s 940us/step - loss: 7.5901 - dense_3_loss: 9.0099e-05 - dense_3_acc: 0.3745 - dense_3_acc_1: 0.2874 - dense_3_acc_2: 0.4078 - dense_3_acc_3: 0.5991 - dense_3_acc_4: 0.8022 - dense_3_acc_5: 0.9315 - dense_3_acc_6: 1.0000\n",
            "Epoch 50/100\n",
            "9162/9162 [==============================] - 9s 942us/step - loss: 7.5829 - dense_3_loss: 1.0072e-04 - dense_3_acc: 0.3739 - dense_3_acc_1: 0.2874 - dense_3_acc_2: 0.4073 - dense_3_acc_3: 0.6023 - dense_3_acc_4: 0.8031 - dense_3_acc_5: 0.9327 - dense_3_acc_6: 1.0000\n",
            "Epoch 51/100\n",
            "9162/9162 [==============================] - 9s 930us/step - loss: 7.5745 - dense_3_loss: 9.4299e-05 - dense_3_acc: 0.3739 - dense_3_acc_1: 0.2879 - dense_3_acc_2: 0.4071 - dense_3_acc_3: 0.6043 - dense_3_acc_4: 0.8022 - dense_3_acc_5: 0.9341 - dense_3_acc_6: 1.0000\n",
            "Epoch 52/100\n",
            "9162/9162 [==============================] - 9s 967us/step - loss: 7.5675 - dense_3_loss: 9.4709e-05 - dense_3_acc: 0.3739 - dense_3_acc_1: 0.2888 - dense_3_acc_2: 0.4093 - dense_3_acc_3: 0.6052 - dense_3_acc_4: 0.8044 - dense_3_acc_5: 0.9349 - dense_3_acc_6: 1.0000\n",
            "Epoch 53/100\n",
            "9162/9162 [==============================] - 9s 945us/step - loss: 7.5603 - dense_3_loss: 9.9113e-05 - dense_3_acc: 0.3739 - dense_3_acc_1: 0.2881 - dense_3_acc_2: 0.4093 - dense_3_acc_3: 0.6059 - dense_3_acc_4: 0.8047 - dense_3_acc_5: 0.9309 - dense_3_acc_6: 1.0000\n",
            "Epoch 54/100\n",
            "9162/9162 [==============================] - 8s 896us/step - loss: 7.5540 - dense_3_loss: 9.6541e-05 - dense_3_acc: 0.3739 - dense_3_acc_1: 0.2878 - dense_3_acc_2: 0.4090 - dense_3_acc_3: 0.6051 - dense_3_acc_4: 0.8040 - dense_3_acc_5: 0.9309 - dense_3_acc_6: 1.0000\n",
            "Epoch 55/100\n",
            "9162/9162 [==============================] - 8s 916us/step - loss: 7.5465 - dense_3_loss: 8.7182e-05 - dense_3_acc: 0.3739 - dense_3_acc_1: 0.2895 - dense_3_acc_2: 0.4082 - dense_3_acc_3: 0.6072 - dense_3_acc_4: 0.8030 - dense_3_acc_5: 0.9332 - dense_3_acc_6: 1.0000\n",
            "Epoch 56/100\n",
            "9162/9162 [==============================] - 9s 951us/step - loss: 7.5400 - dense_3_loss: 9.4266e-05 - dense_3_acc: 0.3739 - dense_3_acc_1: 0.2881 - dense_3_acc_2: 0.4073 - dense_3_acc_3: 0.6090 - dense_3_acc_4: 0.8072 - dense_3_acc_5: 0.9334 - dense_3_acc_6: 1.0000\n",
            "Epoch 57/100\n",
            "9162/9162 [==============================] - 9s 934us/step - loss: 7.5332 - dense_3_loss: 9.5094e-05 - dense_3_acc: 0.3739 - dense_3_acc_1: 0.2889 - dense_3_acc_2: 0.4090 - dense_3_acc_3: 0.6100 - dense_3_acc_4: 0.8052 - dense_3_acc_5: 0.9335 - dense_3_acc_6: 1.0000\n",
            "Epoch 58/100\n",
            "9162/9162 [==============================] - 9s 986us/step - loss: 7.5268 - dense_3_loss: 9.1583e-05 - dense_3_acc: 0.3739 - dense_3_acc_1: 0.2889 - dense_3_acc_2: 0.4112 - dense_3_acc_3: 0.6094 - dense_3_acc_4: 0.8030 - dense_3_acc_5: 0.9335 - dense_3_acc_6: 1.0000\n",
            "Epoch 59/100\n",
            "9162/9162 [==============================] - 9s 999us/step - loss: 7.5215 - dense_3_loss: 8.8819e-05 - dense_3_acc: 0.3739 - dense_3_acc_1: 0.2888 - dense_3_acc_2: 0.4118 - dense_3_acc_3: 0.6113 - dense_3_acc_4: 0.8055 - dense_3_acc_5: 0.9327 - dense_3_acc_6: 1.0000\n",
            "Epoch 60/100\n",
            "9162/9162 [==============================] - 9s 982us/step - loss: 7.5148 - dense_3_loss: 9.9341e-05 - dense_3_acc: 0.3739 - dense_3_acc_1: 0.2890 - dense_3_acc_2: 0.4108 - dense_3_acc_3: 0.6089 - dense_3_acc_4: 0.8048 - dense_3_acc_5: 0.9353 - dense_3_acc_6: 1.0000\n",
            "Epoch 61/100\n",
            "9162/9162 [==============================] - 9s 991us/step - loss: 7.5092 - dense_3_loss: 9.1133e-05 - dense_3_acc: 0.3739 - dense_3_acc_1: 0.2890 - dense_3_acc_2: 0.4110 - dense_3_acc_3: 0.6105 - dense_3_acc_4: 0.8048 - dense_3_acc_5: 0.9353 - dense_3_acc_6: 1.0000\n",
            "Epoch 62/100\n",
            "9162/9162 [==============================] - 9s 945us/step - loss: 7.5034 - dense_3_loss: 9.5917e-05 - dense_3_acc: 0.3739 - dense_3_acc_1: 0.2888 - dense_3_acc_2: 0.4128 - dense_3_acc_3: 0.6139 - dense_3_acc_4: 0.8078 - dense_3_acc_5: 0.9323 - dense_3_acc_6: 1.0000\n",
            "Epoch 63/100\n",
            "9162/9162 [==============================] - 9s 955us/step - loss: 7.4972 - dense_3_loss: 8.9095e-05 - dense_3_acc: 0.3739 - dense_3_acc_1: 0.2898 - dense_3_acc_2: 0.4114 - dense_3_acc_3: 0.6120 - dense_3_acc_4: 0.8048 - dense_3_acc_5: 0.9318 - dense_3_acc_6: 1.0000\n",
            "Epoch 64/100\n",
            "9162/9162 [==============================] - 9s 934us/step - loss: 7.4918 - dense_3_loss: 8.8065e-05 - dense_3_acc: 0.3739 - dense_3_acc_1: 0.2893 - dense_3_acc_2: 0.4119 - dense_3_acc_3: 0.6158 - dense_3_acc_4: 0.8055 - dense_3_acc_5: 0.9335 - dense_3_acc_6: 1.0000\n",
            "Epoch 65/100\n",
            "9162/9162 [==============================] - 9s 956us/step - loss: 7.4862 - dense_3_loss: 8.5529e-05 - dense_3_acc: 0.3739 - dense_3_acc_1: 0.2893 - dense_3_acc_2: 0.4126 - dense_3_acc_3: 0.6157 - dense_3_acc_4: 0.8074 - dense_3_acc_5: 0.9345 - dense_3_acc_6: 1.0000\n",
            "Epoch 66/100\n",
            "9162/9162 [==============================] - 9s 932us/step - loss: 7.4816 - dense_3_loss: 9.3130e-05 - dense_3_acc: 0.3739 - dense_3_acc_1: 0.2888 - dense_3_acc_2: 0.4131 - dense_3_acc_3: 0.6135 - dense_3_acc_4: 0.8069 - dense_3_acc_5: 0.9328 - dense_3_acc_6: 1.0000\n",
            "Epoch 67/100\n",
            "9162/9162 [==============================] - 9s 959us/step - loss: 7.4763 - dense_3_loss: 9.2179e-05 - dense_3_acc: 0.3739 - dense_3_acc_1: 0.2893 - dense_3_acc_2: 0.4133 - dense_3_acc_3: 0.6142 - dense_3_acc_4: 0.8080 - dense_3_acc_5: 0.9336 - dense_3_acc_6: 1.0000\n",
            "Epoch 68/100\n",
            "9162/9162 [==============================] - 9s 937us/step - loss: 7.4716 - dense_3_loss: 9.6149e-05 - dense_3_acc: 0.3739 - dense_3_acc_1: 0.2902 - dense_3_acc_2: 0.4145 - dense_3_acc_3: 0.6149 - dense_3_acc_4: 0.8099 - dense_3_acc_5: 0.9322 - dense_3_acc_6: 1.0000\n",
            "Epoch 69/100\n",
            "9162/9162 [==============================] - 9s 949us/step - loss: 7.4666 - dense_3_loss: 8.4371e-05 - dense_3_acc: 0.3739 - dense_3_acc_1: 0.2901 - dense_3_acc_2: 0.4139 - dense_3_acc_3: 0.6160 - dense_3_acc_4: 0.8094 - dense_3_acc_5: 0.9344 - dense_3_acc_6: 1.0000\n",
            "Epoch 70/100\n",
            "9162/9162 [==============================] - 9s 939us/step - loss: 7.4622 - dense_3_loss: 9.0710e-05 - dense_3_acc: 0.3739 - dense_3_acc_1: 0.2908 - dense_3_acc_2: 0.4156 - dense_3_acc_3: 0.6174 - dense_3_acc_4: 0.8078 - dense_3_acc_5: 0.9343 - dense_3_acc_6: 1.0000\n",
            "Epoch 71/100\n",
            "9162/9162 [==============================] - 9s 940us/step - loss: 7.4570 - dense_3_loss: 8.3983e-05 - dense_3_acc: 0.3739 - dense_3_acc_1: 0.2897 - dense_3_acc_2: 0.4149 - dense_3_acc_3: 0.6183 - dense_3_acc_4: 0.8079 - dense_3_acc_5: 0.9340 - dense_3_acc_6: 1.0000\n",
            "Epoch 72/100\n",
            "9162/9162 [==============================] - 9s 957us/step - loss: 7.4522 - dense_3_loss: 9.0064e-05 - dense_3_acc: 0.3737 - dense_3_acc_1: 0.2905 - dense_3_acc_2: 0.4154 - dense_3_acc_3: 0.6158 - dense_3_acc_4: 0.8092 - dense_3_acc_5: 0.9335 - dense_3_acc_6: 1.0000\n",
            "Epoch 73/100\n",
            "9162/9162 [==============================] - 9s 942us/step - loss: 7.4481 - dense_3_loss: 8.5763e-05 - dense_3_acc: 0.3739 - dense_3_acc_1: 0.2901 - dense_3_acc_2: 0.4149 - dense_3_acc_3: 0.6169 - dense_3_acc_4: 0.8081 - dense_3_acc_5: 0.9347 - dense_3_acc_6: 1.0000\n",
            "Epoch 74/100\n",
            "9162/9162 [==============================] - 9s 992us/step - loss: 7.4430 - dense_3_loss: 8.4466e-05 - dense_3_acc: 0.3739 - dense_3_acc_1: 0.2900 - dense_3_acc_2: 0.4160 - dense_3_acc_3: 0.6186 - dense_3_acc_4: 0.8103 - dense_3_acc_5: 0.9312 - dense_3_acc_6: 1.0000\n",
            "Epoch 75/100\n",
            "9162/9162 [==============================] - 9s 1ms/step - loss: 7.4389 - dense_3_loss: 8.5145e-05 - dense_3_acc: 0.3735 - dense_3_acc_1: 0.2908 - dense_3_acc_2: 0.4152 - dense_3_acc_3: 0.6186 - dense_3_acc_4: 0.8116 - dense_3_acc_5: 0.9327 - dense_3_acc_6: 1.0000\n",
            "Epoch 76/100\n",
            "9162/9162 [==============================] - 9s 931us/step - loss: 7.4346 - dense_3_loss: 8.5653e-05 - dense_3_acc: 0.3739 - dense_3_acc_1: 0.2909 - dense_3_acc_2: 0.4158 - dense_3_acc_3: 0.6191 - dense_3_acc_4: 0.8105 - dense_3_acc_5: 0.9344 - dense_3_acc_6: 1.0000\n",
            "Epoch 77/100\n",
            "9162/9162 [==============================] - 9s 995us/step - loss: 7.4305 - dense_3_loss: 8.6631e-05 - dense_3_acc: 0.3739 - dense_3_acc_1: 0.2912 - dense_3_acc_2: 0.4174 - dense_3_acc_3: 0.6204 - dense_3_acc_4: 0.8095 - dense_3_acc_5: 0.9323 - dense_3_acc_6: 1.0000\n",
            "Epoch 78/100\n",
            "9162/9162 [==============================] - 9s 956us/step - loss: 7.4264 - dense_3_loss: 8.3971e-05 - dense_3_acc: 0.3739 - dense_3_acc_1: 0.2911 - dense_3_acc_2: 0.4166 - dense_3_acc_3: 0.6197 - dense_3_acc_4: 0.8101 - dense_3_acc_5: 0.9347 - dense_3_acc_6: 1.0000\n",
            "Epoch 79/100\n",
            "9162/9162 [==============================] - 9s 965us/step - loss: 7.4223 - dense_3_loss: 8.2952e-05 - dense_3_acc: 0.3739 - dense_3_acc_1: 0.2908 - dense_3_acc_2: 0.4150 - dense_3_acc_3: 0.6215 - dense_3_acc_4: 0.8115 - dense_3_acc_5: 0.9345 - dense_3_acc_6: 1.0000\n",
            "Epoch 80/100\n",
            "9162/9162 [==============================] - 9s 952us/step - loss: 7.4183 - dense_3_loss: 8.3219e-05 - dense_3_acc: 0.3739 - dense_3_acc_1: 0.2909 - dense_3_acc_2: 0.4178 - dense_3_acc_3: 0.6221 - dense_3_acc_4: 0.8103 - dense_3_acc_5: 0.9343 - dense_3_acc_6: 1.0000\n",
            "Epoch 81/100\n",
            "9162/9162 [==============================] - 9s 957us/step - loss: 7.4141 - dense_3_loss: 8.6114e-05 - dense_3_acc: 0.3739 - dense_3_acc_1: 0.2914 - dense_3_acc_2: 0.4179 - dense_3_acc_3: 0.6207 - dense_3_acc_4: 0.8111 - dense_3_acc_5: 0.9330 - dense_3_acc_6: 1.0000\n",
            "Epoch 82/100\n",
            "9162/9162 [==============================] - 9s 950us/step - loss: 7.4106 - dense_3_loss: 8.6407e-05 - dense_3_acc: 0.3739 - dense_3_acc_1: 0.2903 - dense_3_acc_2: 0.4166 - dense_3_acc_3: 0.6221 - dense_3_acc_4: 0.8100 - dense_3_acc_5: 0.9337 - dense_3_acc_6: 1.0000\n",
            "Epoch 83/100\n",
            "9162/9162 [==============================] - 9s 967us/step - loss: 7.4071 - dense_3_loss: 7.9816e-05 - dense_3_acc: 0.3739 - dense_3_acc_1: 0.2905 - dense_3_acc_2: 0.4174 - dense_3_acc_3: 0.6207 - dense_3_acc_4: 0.8080 - dense_3_acc_5: 0.9322 - dense_3_acc_6: 1.0000\n",
            "Epoch 84/100\n",
            "9162/9162 [==============================] - 9s 976us/step - loss: 7.4031 - dense_3_loss: 8.6370e-05 - dense_3_acc: 0.3739 - dense_3_acc_1: 0.2921 - dense_3_acc_2: 0.4185 - dense_3_acc_3: 0.6226 - dense_3_acc_4: 0.8111 - dense_3_acc_5: 0.9324 - dense_3_acc_6: 1.0000\n",
            "Epoch 85/100\n",
            "9162/9162 [==============================] - 9s 935us/step - loss: 7.3999 - dense_3_loss: 8.5016e-05 - dense_3_acc: 0.3739 - dense_3_acc_1: 0.2910 - dense_3_acc_2: 0.4181 - dense_3_acc_3: 0.6234 - dense_3_acc_4: 0.8112 - dense_3_acc_5: 0.9319 - dense_3_acc_6: 1.0000\n",
            "Epoch 86/100\n",
            "9162/9162 [==============================] - 9s 938us/step - loss: 7.3961 - dense_3_loss: 8.1729e-05 - dense_3_acc: 0.3739 - dense_3_acc_1: 0.2903 - dense_3_acc_2: 0.4185 - dense_3_acc_3: 0.6246 - dense_3_acc_4: 0.8117 - dense_3_acc_5: 0.9342 - dense_3_acc_6: 1.0000\n",
            "Epoch 87/100\n",
            "9162/9162 [==============================] - 9s 983us/step - loss: 7.3923 - dense_3_loss: 8.6105e-05 - dense_3_acc: 0.3739 - dense_3_acc_1: 0.2912 - dense_3_acc_2: 0.4189 - dense_3_acc_3: 0.6230 - dense_3_acc_4: 0.8134 - dense_3_acc_5: 0.9345 - dense_3_acc_6: 1.0000\n",
            "Epoch 88/100\n",
            "9162/9162 [==============================] - 9s 999us/step - loss: 7.3888 - dense_3_loss: 7.9691e-05 - dense_3_acc: 0.3739 - dense_3_acc_1: 0.2910 - dense_3_acc_2: 0.4188 - dense_3_acc_3: 0.6230 - dense_3_acc_4: 0.8112 - dense_3_acc_5: 0.9339 - dense_3_acc_6: 1.0000\n",
            "Epoch 89/100\n",
            "9162/9162 [==============================] - 9s 928us/step - loss: 7.3853 - dense_3_loss: 7.8122e-05 - dense_3_acc: 0.3739 - dense_3_acc_1: 0.2898 - dense_3_acc_2: 0.4187 - dense_3_acc_3: 0.6239 - dense_3_acc_4: 0.8098 - dense_3_acc_5: 0.9325 - dense_3_acc_6: 1.0000\n",
            "Epoch 90/100\n",
            "9162/9162 [==============================] - 9s 953us/step - loss: 7.3819 - dense_3_loss: 8.2193e-05 - dense_3_acc: 0.3739 - dense_3_acc_1: 0.2913 - dense_3_acc_2: 0.4191 - dense_3_acc_3: 0.6230 - dense_3_acc_4: 0.8138 - dense_3_acc_5: 0.9346 - dense_3_acc_6: 1.0000\n",
            "Epoch 91/100\n",
            "9162/9162 [==============================] - 9s 940us/step - loss: 7.3785 - dense_3_loss: 8.2573e-05 - dense_3_acc: 0.3739 - dense_3_acc_1: 0.2900 - dense_3_acc_2: 0.4198 - dense_3_acc_3: 0.6245 - dense_3_acc_4: 0.8118 - dense_3_acc_5: 0.9336 - dense_3_acc_6: 1.0000\n",
            "Epoch 92/100\n",
            "9162/9162 [==============================] - 9s 930us/step - loss: 7.3758 - dense_3_loss: 8.7222e-05 - dense_3_acc: 0.3739 - dense_3_acc_1: 0.2909 - dense_3_acc_2: 0.4199 - dense_3_acc_3: 0.6245 - dense_3_acc_4: 0.8118 - dense_3_acc_5: 0.9312 - dense_3_acc_6: 1.0000\n",
            "Epoch 93/100\n",
            "9162/9162 [==============================] - 9s 961us/step - loss: 7.3725 - dense_3_loss: 7.4867e-05 - dense_3_acc: 0.3739 - dense_3_acc_1: 0.2907 - dense_3_acc_2: 0.4187 - dense_3_acc_3: 0.6251 - dense_3_acc_4: 0.8117 - dense_3_acc_5: 0.9321 - dense_3_acc_6: 1.0000\n",
            "Epoch 94/100\n",
            "9162/9162 [==============================] - 9s 993us/step - loss: 7.3689 - dense_3_loss: 7.8751e-05 - dense_3_acc: 0.3739 - dense_3_acc_1: 0.2912 - dense_3_acc_2: 0.4194 - dense_3_acc_3: 0.6249 - dense_3_acc_4: 0.8124 - dense_3_acc_5: 0.9327 - dense_3_acc_6: 1.0000\n",
            "Epoch 95/100\n",
            "9162/9162 [==============================] - 9s 954us/step - loss: 7.3663 - dense_3_loss: 7.6376e-05 - dense_3_acc: 0.3739 - dense_3_acc_1: 0.2901 - dense_3_acc_2: 0.4191 - dense_3_acc_3: 0.6252 - dense_3_acc_4: 0.8152 - dense_3_acc_5: 0.9327 - dense_3_acc_6: 1.0000\n",
            "Epoch 96/100\n",
            "9162/9162 [==============================] - 9s 933us/step - loss: 7.3630 - dense_3_loss: 8.2592e-05 - dense_3_acc: 0.3739 - dense_3_acc_1: 0.2909 - dense_3_acc_2: 0.4197 - dense_3_acc_3: 0.6275 - dense_3_acc_4: 0.8111 - dense_3_acc_5: 0.9345 - dense_3_acc_6: 1.0000\n",
            "Epoch 97/100\n",
            "9162/9162 [==============================] - 9s 948us/step - loss: 7.3601 - dense_3_loss: 7.6897e-05 - dense_3_acc: 0.3739 - dense_3_acc_1: 0.2905 - dense_3_acc_2: 0.4207 - dense_3_acc_3: 0.6256 - dense_3_acc_4: 0.8133 - dense_3_acc_5: 0.9355 - dense_3_acc_6: 1.0000\n",
            "Epoch 98/100\n",
            "9162/9162 [==============================] - 9s 934us/step - loss: 7.3571 - dense_3_loss: 8.0686e-05 - dense_3_acc: 0.3739 - dense_3_acc_1: 0.2909 - dense_3_acc_2: 0.4202 - dense_3_acc_3: 0.6275 - dense_3_acc_4: 0.8108 - dense_3_acc_5: 0.9342 - dense_3_acc_6: 1.0000\n",
            "Epoch 99/100\n",
            "9162/9162 [==============================] - 9s 955us/step - loss: 7.3539 - dense_3_loss: 7.7797e-05 - dense_3_acc: 0.3739 - dense_3_acc_1: 0.2908 - dense_3_acc_2: 0.4204 - dense_3_acc_3: 0.6264 - dense_3_acc_4: 0.8149 - dense_3_acc_5: 0.9333 - dense_3_acc_6: 1.0000\n",
            "Epoch 100/100\n",
            "9162/9162 [==============================] - 9s 931us/step - loss: 7.3509 - dense_3_loss: 8.0876e-05 - dense_3_acc: 0.3739 - dense_3_acc_1: 0.2916 - dense_3_acc_2: 0.4213 - dense_3_acc_3: 0.6264 - dense_3_acc_4: 0.8148 - dense_3_acc_5: 0.9337 - dense_3_acc_6: 1.0000\n"
          ],
          "name": "stdout"
        },
        {
          "output_type": "execute_result",
          "data": {
            "text/plain": [
              "<keras.callbacks.History at 0x7f442aabd080>"
            ]
          },
          "metadata": {
            "tags": []
          },
          "execution_count": 158
        }
      ]
    },
    {
      "cell_type": "code",
      "metadata": {
        "id": "-gaQLcIlSjr9",
        "colab_type": "code",
        "colab": {}
      },
      "source": [
        " "
      ],
      "execution_count": 0,
      "outputs": []
    },
    {
      "cell_type": "code",
      "metadata": {
        "id": "5_P_5Ctfxsh1",
        "colab_type": "code",
        "colab": {}
      },
      "source": [
        "model.fit([X, a_10, c_10, a_20, c_20], list(Y), epochs = 1500)\n",
        "model.save('Namer_v2.h5')"
      ],
      "execution_count": 0,
      "outputs": []
    },
    {
      "cell_type": "code",
      "metadata": {
        "id": "XZXzPmAwgEbd",
        "colab_type": "code",
        "colab": {}
      },
      "source": [
        ""
      ],
      "execution_count": 0,
      "outputs": []
    },
    {
      "cell_type": "markdown",
      "metadata": {
        "id": "Fy0PZZLOm772",
        "colab_type": "text"
      },
      "source": [
        "#### Next Steps"
      ]
    },
    {
      "cell_type": "code",
      "metadata": {
        "id": "A7ps1XjadhYY",
        "colab_type": "code",
        "colab": {}
      },
      "source": [
        "def keras_one_hot(x, classes = 27):\n",
        "\n",
        "    x = K.argmax(x)\n",
        "    x = tf.one_hot(x, classes) \n",
        "    x = RepeatVector(1)(x)\n",
        "    \n",
        "    return x"
      ],
      "execution_count": 0,
      "outputs": []
    },
    {
      "cell_type": "code",
      "metadata": {
        "id": "YWxJBpBmXq1y",
        "colab_type": "code",
        "colab": {}
      },
      "source": [
        "def name_inference_model(LSTM_cell, densor, n_values, n_a, Ty):\n",
        "\n",
        "    x0 = Input(shape=(1, n_values))\n",
        "    a0 = Input(shape=(n_a,), name='a0')\n",
        "    c0 = Input(shape=(n_a,), name='c0')\n",
        "    a = a0\n",
        "    c = c0\n",
        "    x = x0\n",
        "\n",
        "    outputs = []\n",
        "    \n",
        "    for t in range(Ty):\n",
        "        \n",
        "        a, _, c = LSTM_cell(x, initial_state=[a, c])\n",
        "        \n",
        "        out = densor(a)\n",
        "\n",
        "        outputs.append(out)\n",
        "        \n",
        "        x = Lambda(keras_one_hot)(out)\n",
        "        \n",
        "    inference_model = Model(inputs = [x0, a0, c0], outputs = outputs)\n",
        "    \n",
        "    return inference_model"
      ],
      "execution_count": 0,
      "outputs": []
    },
    {
      "cell_type": "code",
      "metadata": {
        "id": "A7TnClgpXqqh",
        "colab_type": "code",
        "colab": {}
      },
      "source": [
        "def predict_and_sample(inference_model, num_classes, x_initializer, a_initializer, c_initializer):\n",
        "\n",
        "    pred = inference_model.predict([x_initializer,a_initializer,c_initializer])\n",
        "    indices = np.argmax(pred, axis = -1)\n",
        "    results = to_categorical(indices, num_classes)\n",
        "    \n",
        "    return pred, results, indices"
      ],
      "execution_count": 0,
      "outputs": []
    },
    {
      "cell_type": "code",
      "metadata": {
        "id": "iduf_PzxXq0E",
        "colab_type": "code",
        "colab": {}
      },
      "source": [
        "inference_model = name_inference_model(LSTM_cell_1, densor, n_values, n_a, Ty)"
      ],
      "execution_count": 0,
      "outputs": []
    },
    {
      "cell_type": "code",
      "metadata": {
        "id": "40Jz2-6QXqxt",
        "colab_type": "code",
        "colab": {}
      },
      "source": [
        "#inference_model.summary()"
      ],
      "execution_count": 0,
      "outputs": []
    },
    {
      "cell_type": "code",
      "metadata": {
        "id": "yhB3HrR6Xqs5",
        "colab_type": "code",
        "colab": {}
      },
      "source": [
        "# x_initializer = np.zeros((1, 1, vocab_size))\n",
        "x_initializer = np.random.randn(1, 1, vocab_size)\n",
        "# x_initializer[:, :, 0] = 1\n",
        "\n",
        "a_initializer = np.zeros((1, n_a))\n",
        "c_initializer = np.zeros((1, n_a))"
      ],
      "execution_count": 0,
      "outputs": []
    },
    {
      "cell_type": "code",
      "metadata": {
        "id": "JQ4YhZPcXqoV",
        "colab_type": "code",
        "colab": {}
      },
      "source": [
        "pred, results, indices = predict_and_sample(inference_model, n_values, x_initializer, a_initializer, c_initializer)"
      ],
      "execution_count": 0,
      "outputs": []
    },
    {
      "cell_type": "code",
      "metadata": {
        "id": "JEFUv0avXqlC",
        "colab_type": "code",
        "outputId": "23876214-65f0-4009-8da3-9c77d79b7232",
        "colab": {
          "base_uri": "https://localhost:8080/",
          "height": 102
        }
      },
      "source": [
        "for i in indices:\n",
        "    print(idx_to_chr[int(i)], end = '')"
      ],
      "execution_count": 163,
      "outputs": [
        {
          "output_type": "stream",
          "text": [
            "do\n",
            "\n",
            "\n",
            "\n",
            "\n"
          ],
          "name": "stdout"
        }
      ]
    },
    {
      "cell_type": "code",
      "metadata": {
        "id": "YwdAdRZmXqiQ",
        "colab_type": "code",
        "outputId": "5b2520f1-4938-487a-be9d-1e9c036d6d89",
        "colab": {
          "base_uri": "https://localhost:8080/",
          "height": 1000
        }
      },
      "source": [
        "for v in range(vocab_size):\n",
        "    print(v)\n",
        "    x_initializer = np.zeros((1, 1, vocab_size))\n",
        "    x_initializer[:, :, v] = 1\n",
        "    _, _, indices = predict_and_sample(inference_model, n_values, x_initializer, a_initializer, c_initializer)\n",
        "    for i in indices:\n",
        "        print(idx_to_chr[int(i)], end = '')\n",
        "    #print('\\n')"
      ],
      "execution_count": 164,
      "outputs": [
        {
          "output_type": "stream",
          "text": [
            "0\n",
            "lisha\n",
            "\n",
            "1\n",
            "alaram\n",
            "2\n",
            "handa\n",
            "\n",
            "3\n",
            "elia\n",
            "\n",
            "\n",
            "4\n",
            "lisa\n",
            "\n",
            "\n",
            "5\n",
            "arhana\n",
            "6\n",
            "ulshad\n",
            "7\n",
            "ardes\n",
            "\n",
            "8\n",
            "shant\n",
            "\n",
            "9\n",
            "anelle\n",
            "10\n",
            "aris\n",
            "\n",
            "\n",
            "11\n",
            "akhan\n",
            "\n",
            "12\n",
            "arian\n",
            "\n",
            "13\n",
            "andini\n",
            "14\n",
            "rvil\n",
            "\n",
            "\n",
            "15\n",
            "arveen\n",
            "16\n",
            "uint\n",
            "\n",
            "\n",
            "17\n",
            "ambir\n",
            "\n",
            "18\n",
            "antosh\n",
            "19\n",
            "amika\n",
            "\n",
            "20\n",
            "rman\n",
            "\n",
            "\n",
            "21\n",
            "ines\n",
            "\n",
            "\n",
            "22\n",
            "illia\n",
            "\n",
            "23\n",
            "imena\n",
            "\n",
            "24\n",
            "ashin\n",
            "\n",
            "25\n",
            "aiden\n",
            "\n",
            "26\n",
            "\n",
            "\n",
            "\n",
            "\n",
            "\n",
            "\n",
            "\n"
          ],
          "name": "stdout"
        }
      ]
    },
    {
      "cell_type": "code",
      "metadata": {
        "id": "q9jNJOPDXqfP",
        "colab_type": "code",
        "colab": {}
      },
      "source": [
        ""
      ],
      "execution_count": 0,
      "outputs": []
    },
    {
      "cell_type": "code",
      "metadata": {
        "id": "gZrTSvD2Mtoe",
        "colab_type": "code",
        "colab": {}
      },
      "source": [
        "# import pandas as pd\n",
        "\n",
        "# df = pd.read_csv('/content/drive/My Drive/Colab Notebooks/dinos.txt', sep = '\\n', header = None)\n",
        "\n",
        "# df = pd.Series(np.squeeze(df.values))\n",
        "# df = df.apply(lambda x: split(x.lower()))\n",
        "# df = df[df.apply(lambda x: len(x) > 7 and len(x) < 14)]\n",
        "# #df = df[df.apply(lambda x: len(x) == 9)]\n",
        "# df = df.apply(lambda x: token_idx(x))\n",
        "\n",
        "# max_length = max([len(i) for i in df])\n",
        "# df = df.apply(lambda x: end_pad(x, max_length))\n",
        "\n",
        "# df = df.sample(frac = 1)\n",
        "# data_subset = df\n",
        "\n",
        "# m = len(data_subset)\n",
        "\n",
        "# X_tokens = np.array(data_subset.values.tolist()).reshape(1, m, -1)\n",
        "# Y_tokens = np.array(data_subset.apply(lambda x: x[1:]).apply(lambda x: x + [chr_to_idx['\\n']]).values.tolist()).reshape(1, m, -1)\n",
        "\n",
        "# X = one_hot(X_tokens, vocab_size)\n",
        "# Y = one_hot(Y_tokens, vocab_size)\n",
        "\n",
        "# parameters = model(X, Y, idx_to_chr, chr_to_idx, num_iterations = 35000, n_a = 50, sample_size = 7, vocab_size = vocab_size)"
      ],
      "execution_count": 0,
      "outputs": []
    },
    {
      "cell_type": "code",
      "metadata": {
        "id": "zbNs6w66s5rO",
        "colab_type": "code",
        "colab": {}
      },
      "source": [
        ""
      ],
      "execution_count": 0,
      "outputs": []
    }
  ]
}